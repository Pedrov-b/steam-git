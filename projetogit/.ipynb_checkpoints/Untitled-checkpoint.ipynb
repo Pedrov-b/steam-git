{
 "cells": [
  {
   "cell_type": "code",
   "execution_count": null,
   "id": "847151d6-12c2-4a26-8b55-61beeffb492a",
   "metadata": {},
   "outputs": [],
   "source": [
    "pergunta=int(input(\"Qual o valor do saque?:\"))\n",
    "c=0\n",
    "ci=0\n",
    "cin=0\n",
    "d=0\n",
    "u=0\n",
    "if pergunta <10 or pergunta>600:\n",
    "    print(\"Valor Inválido\")\n",
    "else:\n",
    "    while pergunta!=0:\n",
    "        if pergunta>=100:\n",
    "            pergunta=pergunta-100\n",
    "            c=c+1\n",
    "        elif pergunta>50:\n",
    "            pergunta=pergunta-50\n",
    "            ci=ci+1\n",
    "        elif pergunta>=10:\n",
    "            pergunta=pergunta-10\n",
    "            d=d+1\n",
    "        elif pergunta>=5:\n",
    "            pergunta=pergunta-5\n",
    "            cin=cin+1\n",
    "        else:\n",
    "            pergunta=pergunta-1\n",
    "            u=u+1\n",
    "    print(f'Foram necessárias: {c} notas de cem, {ci} notas de cinquenta, {d} notas de 10, {cin} notas de cinco e {u} notas de um')\n"
   ]
  },
  {
   "cell_type": "code",
   "execution_count": null,
   "id": "a26974a4-25a5-447b-a76d-997c339c0811",
   "metadata": {},
   "outputs": [],
   "source": []
  }
 ],
 "metadata": {
  "kernelspec": {
   "display_name": "Python 3 (ipykernel)",
   "language": "python",
   "name": "python3"
  },
  "language_info": {
   "codemirror_mode": {
    "name": "ipython",
    "version": 3
   },
   "file_extension": ".py",
   "mimetype": "text/x-python",
   "name": "python",
   "nbconvert_exporter": "python",
   "pygments_lexer": "ipython3",
   "version": "3.11.7"
  }
 },
 "nbformat": 4,
 "nbformat_minor": 5
}
